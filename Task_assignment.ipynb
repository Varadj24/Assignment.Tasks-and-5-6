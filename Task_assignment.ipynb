{
 "cells": [
  {
   "cell_type": "code",
   "execution_count": 1,
   "id": "aeda3236-85ed-4ab9-8166-bffd80f707d6",
   "metadata": {},
   "outputs": [],
   "source": [
    "#Q1.Create a vehicle class with an init method having instance variables as name_of_vehicle, max_speed and average_of_vehicle."
   ]
  },
  {
   "cell_type": "code",
   "execution_count": 2,
   "id": "004971e6-559b-4dbf-8422-ef44377f955d",
   "metadata": {},
   "outputs": [],
   "source": [
    "class Vehicle:\n",
    "    def __init__(self, name_of_vehicle, max_speed, average_of_vehicle):\n",
    "        self.name_of_vehicle = name_of_vehicle\n",
    "        self.max_speed = max_speed\n",
    "        self.average_of_vehicle = average_of_vehicle\n"
   ]
  },
  {
   "cell_type": "code",
   "execution_count": 3,
   "id": "179a4456-9333-43fd-b74d-6c1907539a97",
   "metadata": {},
   "outputs": [],
   "source": [
    "car = Vehicle('Car' , 200 , 30)\n",
    "bike = Vehicle('Bike' , 80 , 25)"
   ]
  },
  {
   "cell_type": "code",
   "execution_count": 4,
   "id": "45ca03af-3fc8-4457-85eb-1bc2c45fc4ad",
   "metadata": {},
   "outputs": [
    {
     "data": {
      "text/plain": [
       "200"
      ]
     },
     "execution_count": 4,
     "metadata": {},
     "output_type": "execute_result"
    }
   ],
   "source": [
    "car.max_speed"
   ]
  },
  {
   "cell_type": "code",
   "execution_count": 5,
   "id": "e8f0ad31-a8c5-47a1-9459-b4e2c29a2fab",
   "metadata": {},
   "outputs": [
    {
     "data": {
      "text/plain": [
       "80"
      ]
     },
     "execution_count": 5,
     "metadata": {},
     "output_type": "execute_result"
    }
   ],
   "source": [
    "bike.max_speed"
   ]
  },
  {
   "cell_type": "code",
   "execution_count": 6,
   "id": "2855cddc-9bbf-41a6-8574-5f78395d190e",
   "metadata": {},
   "outputs": [],
   "source": [
    "#Q2. Create a child class car from the vehicle class created in Que 1, which will inherit the vehicle class. \n",
    "#Create a method named seating_capacity which takes capacity as an argument and returns the name of the vehicle and its seating capacity"
   ]
  },
  {
   "cell_type": "code",
   "execution_count": 7,
   "id": "fb187127-ff66-481b-a042-3ef02a9f87f9",
   "metadata": {},
   "outputs": [],
   "source": [
    "class Vehicle:\n",
    "    def __init__(self, name_of_vehicle, max_speed, average_of_vehicle):\n",
    "        self.name_of_vehicle = name_of_vehicle\n",
    "        self.max_speed = max_speed\n",
    "        self.average_of_vehicle = average_of_vehicle\n",
    "\n",
    "class Car(Vehicle):\n",
    "    def __init__(self ,name_of_vehicle, max_speed, average_of_vehicle ):\n",
    "        self.name_of_vehicle = name_of_vehicle\n",
    "        self.max_speed = max_speed\n",
    "        self.average_of_vehicle = average_of_vehicle\n",
    "    \n",
    "    def seating_capacity(self , capacity):\n",
    "        return f\"{self.name_of_vehicle} has a seating capacity of {capacity} people.\"\n"
   ]
  },
  {
   "cell_type": "code",
   "execution_count": 8,
   "id": "8f3af6b2-06da-4d8d-a7b2-1ecf1226d475",
   "metadata": {},
   "outputs": [],
   "source": [
    "car1 = Car(\"Car Model 1\", 200, 30)\n",
    "car2 = Car(\"Car Model 2\", 180, 25)"
   ]
  },
  {
   "cell_type": "code",
   "execution_count": 9,
   "id": "1fa3bf31-2c5e-42e3-b9b9-d8c8a4a9d6cd",
   "metadata": {},
   "outputs": [
    {
     "data": {
      "text/plain": [
       "'Car Model 1 has a seating capacity of 4 people.'"
      ]
     },
     "execution_count": 9,
     "metadata": {},
     "output_type": "execute_result"
    }
   ],
   "source": [
    "car1.seating_capacity(4)"
   ]
  },
  {
   "cell_type": "code",
   "execution_count": 10,
   "id": "3ad42a25-8044-4519-a0cc-60260fcbeab6",
   "metadata": {},
   "outputs": [],
   "source": [
    "#Q3. What is multiple inheritance? Write a python code to demonstrate multiple inheritance"
   ]
  },
  {
   "cell_type": "code",
   "execution_count": null,
   "id": "2c364f51-d0a9-4ae1-83d1-c0703ef2d722",
   "metadata": {},
   "outputs": [],
   "source": [
    "'''Multiple inheritance is a concept in object-oriented programming \n",
    "where a class can inherit characteristics and behaviors from more than one parent class\n",
    " In other words, a single subclass can have multiple base classes'''"
   ]
  },
  {
   "cell_type": "code",
   "execution_count": 11,
   "id": "d87a9e37-02a0-4fec-b9bd-a9b8d7cf0345",
   "metadata": {},
   "outputs": [],
   "source": [
    "class Animal:\n",
    "    def __init__(self, species):\n",
    "        self.species = species\n",
    "\n",
    "    def make_sound(self):\n",
    "        pass\n",
    "\n",
    "class Flyable:\n",
    "    def fly(self):\n",
    "        pass\n",
    "\n",
    "class Swimmable:\n",
    "    def swim(self):\n",
    "        pass\n",
    "\n",
    "class Bird(Animal, Flyable):\n",
    "    def __init__(self, species, can_fly=True):\n",
    "        super().__init__(species)\n",
    "        self.can_fly = can_fly\n",
    "\n",
    "    def make_sound(self):\n",
    "        return \"Chirp Chirp\"\n",
    "\n",
    "class Fish(Animal, Swimmable):\n",
    "    def __init__(self, species, can_swim=True):\n",
    "        super().__init__(species)\n",
    "        self.can_swim = can_swim\n",
    "\n",
    "    def make_sound(self):\n",
    "        return \"Blub Blub\"\n"
   ]
  },
  {
   "cell_type": "code",
   "execution_count": 12,
   "id": "6468b641-f34e-4539-a859-0684ff9bf7a2",
   "metadata": {},
   "outputs": [],
   "source": [
    "parrot = Bird('parrot')\n",
    "goldfish = Fish('Goldfish')"
   ]
  },
  {
   "cell_type": "code",
   "execution_count": 13,
   "id": "22a89dbb-268a-493d-a4b5-50b9ef9170cd",
   "metadata": {},
   "outputs": [
    {
     "data": {
      "text/plain": [
       "'Chirp Chirp'"
      ]
     },
     "execution_count": 13,
     "metadata": {},
     "output_type": "execute_result"
    }
   ],
   "source": [
    "parrot.make_sound()"
   ]
  },
  {
   "cell_type": "code",
   "execution_count": 14,
   "id": "e2311540-f10f-4258-893e-8f063da9bc7c",
   "metadata": {},
   "outputs": [
    {
     "data": {
      "text/plain": [
       "True"
      ]
     },
     "execution_count": 14,
     "metadata": {},
     "output_type": "execute_result"
    }
   ],
   "source": [
    "parrot.can_fly"
   ]
  },
  {
   "cell_type": "code",
   "execution_count": 15,
   "id": "c6800169-fe07-472a-b233-3e01a981ba60",
   "metadata": {},
   "outputs": [
    {
     "data": {
      "text/plain": [
       "'parrot'"
      ]
     },
     "execution_count": 15,
     "metadata": {},
     "output_type": "execute_result"
    }
   ],
   "source": [
    "parrot.species"
   ]
  },
  {
   "cell_type": "code",
   "execution_count": 16,
   "id": "1356a6da-7b0a-4f23-8735-60355740821e",
   "metadata": {},
   "outputs": [
    {
     "data": {
      "text/plain": [
       "'Blub Blub'"
      ]
     },
     "execution_count": 16,
     "metadata": {},
     "output_type": "execute_result"
    }
   ],
   "source": [
    "goldfish.make_sound()"
   ]
  },
  {
   "cell_type": "code",
   "execution_count": 17,
   "id": "23c9521a-e07b-4994-af89-0564dd609444",
   "metadata": {},
   "outputs": [
    {
     "data": {
      "text/plain": [
       "'Goldfish'"
      ]
     },
     "execution_count": 17,
     "metadata": {},
     "output_type": "execute_result"
    }
   ],
   "source": [
    "goldfish.species"
   ]
  },
  {
   "cell_type": "code",
   "execution_count": 18,
   "id": "7f3f0420-a958-4881-a74d-cae0da23b1ed",
   "metadata": {},
   "outputs": [],
   "source": [
    "#Q4. What are getter and setter in python? Create a class and create a getter and a setter method in this class"
   ]
  },
  {
   "cell_type": "code",
   "execution_count": null,
   "id": "b20782af-f781-44ac-91ff-b8f0f71c5e9e",
   "metadata": {},
   "outputs": [],
   "source": [
    "''' getter and setter methods are used to control access to the attributes of a class. \n",
    "They provide a way to get (retrieve) and set (modify) the values of private \n",
    "attributes with additional logic, if needed.'''"
   ]
  },
  {
   "cell_type": "code",
   "execution_count": 19,
   "id": "590a5fc6-0243-4bf0-add0-6c1723245747",
   "metadata": {},
   "outputs": [],
   "source": [
    "class Person:\n",
    "    def __init__(self, name, age):\n",
    "        self._name = name\n",
    "        self._age = age\n",
    "\n",
    "    # Getter method for 'name' attribute\n",
    "    def get_name(self):\n",
    "        return self._name\n",
    "\n",
    "    # Setter method for 'name' attribute\n",
    "    def set_name(self, name):\n",
    "        self._name = name\n",
    "\n",
    "    # Getter method for 'age' attribute\n",
    "    def get_age(self):\n",
    "        return self._age\n",
    "\n",
    "    # Setter method for 'age' attribute\n",
    "    def set_age(self, age):\n",
    "        if age >= 0:\n",
    "            self._age = age\n",
    "        else:\n",
    "            print(\"Invalid age! Age cannot be negative.\")\n"
   ]
  },
  {
   "cell_type": "code",
   "execution_count": 20,
   "id": "564c9cbe-632f-4107-b59f-f067cb046638",
   "metadata": {},
   "outputs": [],
   "source": [
    "person1 = Person(\"Alice\", 30)"
   ]
  },
  {
   "cell_type": "code",
   "execution_count": 22,
   "id": "ebccd611-4d56-4dde-941a-8c5141951384",
   "metadata": {},
   "outputs": [
    {
     "data": {
      "text/plain": [
       "'Alice'"
      ]
     },
     "execution_count": 22,
     "metadata": {},
     "output_type": "execute_result"
    }
   ],
   "source": [
    "person1.get_name()"
   ]
  },
  {
   "cell_type": "code",
   "execution_count": 23,
   "id": "b3005d54-17ca-48e9-a364-c0d40393a8a9",
   "metadata": {},
   "outputs": [
    {
     "data": {
      "text/plain": [
       "30"
      ]
     },
     "execution_count": 23,
     "metadata": {},
     "output_type": "execute_result"
    }
   ],
   "source": [
    "person1.get_age()"
   ]
  },
  {
   "cell_type": "code",
   "execution_count": 24,
   "id": "b6306b1f-26c3-4b02-9eb0-06c010a74d9c",
   "metadata": {},
   "outputs": [],
   "source": [
    "person1.set_age(12)"
   ]
  },
  {
   "cell_type": "code",
   "execution_count": 25,
   "id": "6c551f86-6895-4b89-a49d-11206757d03a",
   "metadata": {},
   "outputs": [
    {
     "data": {
      "text/plain": [
       "12"
      ]
     },
     "execution_count": 25,
     "metadata": {},
     "output_type": "execute_result"
    }
   ],
   "source": [
    "person1.get_age()"
   ]
  },
  {
   "cell_type": "code",
   "execution_count": 26,
   "id": "d3b2db64-26b6-48d6-9037-0584bb61d501",
   "metadata": {},
   "outputs": [],
   "source": [
    "#Q5.What is method overriding in python? Write a python code to demonstrate method overriding."
   ]
  },
  {
   "cell_type": "code",
   "execution_count": null,
   "id": "4bd8db10-83d0-4123-b9a1-f1c02b5f7576",
   "metadata": {},
   "outputs": [],
   "source": [
    "'''Method overriding is a concept in object-oriented programming where a \n",
    "subclass provides a specific implementation for a method that is already defined in its superclass.'''"
   ]
  },
  {
   "cell_type": "code",
   "execution_count": 27,
   "id": "62cb059c-3b80-46a5-a210-80e4a1418338",
   "metadata": {},
   "outputs": [],
   "source": [
    "class Shape:\n",
    "    def area(self):\n",
    "        return 0 \n",
    "\n",
    "\n",
    "class Rectangle(Shape):\n",
    "    def __init__(self, length, width):\n",
    "        self.length = length\n",
    "        self.width = width\n",
    "\n",
    "    def area(self):\n",
    "        return self.length * self.width"
   ]
  },
  {
   "cell_type": "code",
   "execution_count": 28,
   "id": "61d0b72e-5ca6-4eb5-b0f8-32534c373ed4",
   "metadata": {},
   "outputs": [],
   "source": [
    "rect = Rectangle(5, 10)"
   ]
  },
  {
   "cell_type": "code",
   "execution_count": 30,
   "id": "3da36d25-6a5b-4c6c-87f1-af9f1216d7d9",
   "metadata": {},
   "outputs": [
    {
     "data": {
      "text/plain": [
       "50"
      ]
     },
     "execution_count": 30,
     "metadata": {},
     "output_type": "execute_result"
    }
   ],
   "source": [
    "rect.area()"
   ]
  },
  {
   "cell_type": "code",
   "execution_count": null,
   "id": "272e64ce-5304-4c9a-805a-9f50c19c37b1",
   "metadata": {},
   "outputs": [],
   "source": []
  }
 ],
 "metadata": {
  "kernelspec": {
   "display_name": "Python 3 (ipykernel)",
   "language": "python",
   "name": "python3"
  },
  "language_info": {
   "codemirror_mode": {
    "name": "ipython",
    "version": 3
   },
   "file_extension": ".py",
   "mimetype": "text/x-python",
   "name": "python",
   "nbconvert_exporter": "python",
   "pygments_lexer": "ipython3",
   "version": "3.10.8"
  }
 },
 "nbformat": 4,
 "nbformat_minor": 5
}
