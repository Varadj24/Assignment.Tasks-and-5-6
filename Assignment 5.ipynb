{
 "cells": [
  {
   "cell_type": "code",
   "execution_count": 1,
   "id": "1a1ebc23-4910-4bf0-a2a7-d60f918b91ac",
   "metadata": {},
   "outputs": [],
   "source": [
    "#Q1. Explain Class and Object with respect to Object-Oriented Programming. Give a suitable example."
   ]
  },
  {
   "cell_type": "code",
   "execution_count": null,
   "id": "7d966aac-0510-4f7d-aed6-338a1a77f896",
   "metadata": {},
   "outputs": [],
   "source": [
    "'''1).CLASS -  a class is a blueprint or a template that defines the structure and behavior of objects. \n",
    "It is a user-defined data type that encapsulates data (attributes) and methods (functions) that operate on that data\n",
    "2). OBJECT - An object, on the other hand, is an instance of a class. \n",
    "It is a real-world entity that represents a specific occurrence of the class. \n",
    "Objects are created based on the class blueprint and have their own unique data and behavior, \n",
    "while still sharing the attributes and methods defined in the class.'''"
   ]
  },
  {
   "cell_type": "code",
   "execution_count": 2,
   "id": "656bc060-1a6f-4765-930a-803f370c858c",
   "metadata": {},
   "outputs": [],
   "source": [
    "class Person:\n",
    "    def __init__(self, name, age):\n",
    "        self.name = name\n",
    "        self.age = age\n",
    "    def greet(self):\n",
    "        return f\"Hello, my name is {self.name} and I am {self.age} years old.\"\n"
   ]
  },
  {
   "cell_type": "code",
   "execution_count": 3,
   "id": "9aa72eeb-9f55-471a-847e-6a13de57eca6",
   "metadata": {},
   "outputs": [],
   "source": [
    "person1 = Person(\"Varad\", 21)"
   ]
  },
  {
   "cell_type": "code",
   "execution_count": 4,
   "id": "b97b2cd4-b2e1-48d7-9958-8afd2b183071",
   "metadata": {},
   "outputs": [
    {
     "data": {
      "text/plain": [
       "'Hello, my name is Varad and I am 21 years old.'"
      ]
     },
     "execution_count": 4,
     "metadata": {},
     "output_type": "execute_result"
    }
   ],
   "source": [
    "person1.greet()"
   ]
  },
  {
   "cell_type": "code",
   "execution_count": 5,
   "id": "71b96aef-27f1-4a66-862b-99467fe6ebde",
   "metadata": {},
   "outputs": [],
   "source": [
    "#Q2 Name the four pillars of OOPs."
   ]
  },
  {
   "cell_type": "code",
   "execution_count": null,
   "id": "83be7cb4-7669-4170-bead-ba70e7cf432a",
   "metadata": {},
   "outputs": [],
   "source": [
    "'''1). Encapsulation\n",
    "   2). Abstraction\n",
    "   3). Inheritance\n",
    "   4). Polymorphism'''"
   ]
  },
  {
   "cell_type": "code",
   "execution_count": null,
   "id": "60a0fe1a-e7a1-4051-83e9-a081225d1adc",
   "metadata": {},
   "outputs": [],
   "source": [
    "#Q3 Explain why the __init__() function is used. Give a suitable example."
   ]
  },
  {
   "cell_type": "code",
   "execution_count": null,
   "id": "786a920d-da46-42c6-a9ce-307067d9caef",
   "metadata": {},
   "outputs": [],
   "source": [
    "'''The __init__() function is a special method in Python that is automatically called \n",
    "when an object of a class is created. It is also known as the constructor of the class'''"
   ]
  },
  {
   "cell_type": "code",
   "execution_count": 9,
   "id": "57f0dc36-563b-48f0-b736-5003051a0d12",
   "metadata": {},
   "outputs": [],
   "source": [
    "class Person1:\n",
    "    def __init__(self, name, age):\n",
    "        self.name = name\n",
    "        self.age = age\n",
    "\n",
    "    def introduce(self):\n",
    "        return f\"Hello, my name is {self.name} and I am {self.age} years old.\"\n"
   ]
  },
  {
   "cell_type": "code",
   "execution_count": 10,
   "id": "7909a968-2b5d-4273-a72d-4c34c2a7d1e4",
   "metadata": {},
   "outputs": [],
   "source": [
    "person1 = Person1(\"Darshan\", 17)"
   ]
  },
  {
   "cell_type": "code",
   "execution_count": 11,
   "id": "f05492df-8792-4f4a-95ce-13fc619e3ca2",
   "metadata": {},
   "outputs": [
    {
     "data": {
      "text/plain": [
       "'Hello, my name is Darshan and I am 17 years old.'"
      ]
     },
     "execution_count": 11,
     "metadata": {},
     "output_type": "execute_result"
    }
   ],
   "source": [
    "person1.introduce()"
   ]
  },
  {
   "cell_type": "code",
   "execution_count": 12,
   "id": "ec8a7d94-a981-48e9-92a4-2bc076541e2c",
   "metadata": {},
   "outputs": [],
   "source": [
    "#Q4 Why self is used in OOPs?"
   ]
  },
  {
   "cell_type": "code",
   "execution_count": null,
   "id": "9073fd92-e264-40c1-b428-396e404d7ce8",
   "metadata": {},
   "outputs": [],
   "source": [
    "''' self is a convention and a reference variable used to represent the instance of the class. \n",
    "It is the first parameter in the definition of instance methods within a class.\n",
    "Also reasons of used self is given below :-\n",
    "1).Accessing Object's Attribute\n",
    "2).Method Invocation on the Object\n",
    "3).Creating and Modifying Attributes\n",
    "4).Differentiating between Local and Instance Variables"
   ]
  },
  {
   "cell_type": "code",
   "execution_count": null,
   "id": "7a6b7d35-9f1d-4a37-b1c5-aa5c688c94aa",
   "metadata": {},
   "outputs": [],
   "source": [
    "#5. What is inheritance? Give an example for each type of inheritance"
   ]
  },
  {
   "cell_type": "code",
   "execution_count": null,
   "id": "38510c08-cc8e-49fd-a1e5-9d8c41fa9759",
   "metadata": {},
   "outputs": [],
   "source": [
    "'''Inheritance is a fundamental concept in object-oriented programming (OOP) \n",
    "that allows a class (subclass or derived class) to inherit properties and behaviors from \n",
    "another class (superclass or base class). \n",
    "Inheritance promotes code reuse and creates a hierarchy of classes, \n",
    "where subclasses can extend and specialize the attributes and methods of their superclass. \n",
    "It enables the creation of a more organized and efficient codebase by sharing common functionality among related classes.'''"
   ]
  },
  {
   "cell_type": "code",
   "execution_count": 15,
   "id": "ba3d5935-fb6e-4e73-aa8e-9641e15c6ca4",
   "metadata": {},
   "outputs": [],
   "source": [
    "#There are three types of inheritance in OOP:\n",
    "\n",
    "#1).Single Inheritance:\n",
    "\n",
    "class Animal:\n",
    "    def make_sound(self):\n",
    "        return \"Generic animal sound\"\n",
    "\n",
    "class Dog(Animal):\n",
    "    def make_sound(self):\n",
    "        return \"Woof!\"\n"
   ]
  },
  {
   "cell_type": "code",
   "execution_count": 16,
   "id": "e7e9a224-5ad0-4fa5-beb6-e2b8bee90e51",
   "metadata": {},
   "outputs": [],
   "source": [
    "dog = Dog()"
   ]
  },
  {
   "cell_type": "code",
   "execution_count": 17,
   "id": "fef5c98b-3915-4d24-a973-e01c1093942d",
   "metadata": {},
   "outputs": [
    {
     "data": {
      "text/plain": [
       "'Woof!'"
      ]
     },
     "execution_count": 17,
     "metadata": {},
     "output_type": "execute_result"
    }
   ],
   "source": [
    "dog.make_sound()"
   ]
  },
  {
   "cell_type": "code",
   "execution_count": 18,
   "id": "d730f7fa-66af-4879-9eff-fb7c66d43064",
   "metadata": {},
   "outputs": [],
   "source": [
    "#2). Multiple Inheritance:-"
   ]
  },
  {
   "cell_type": "code",
   "execution_count": 19,
   "id": "490992e1-0b7b-47a4-9ab2-1e70ddf4b49f",
   "metadata": {},
   "outputs": [],
   "source": [
    "class Flyable:\n",
    "    def fly(self):\n",
    "        return \"I can fly!\"\n",
    "\n",
    "class Swimmable:\n",
    "    def swim(self):\n",
    "        return \"I can swim!\"\n",
    "\n",
    "class Amphibian(Flyable, Swimmable):\n",
    "    pass"
   ]
  },
  {
   "cell_type": "code",
   "execution_count": 20,
   "id": "d738ea4b-33d5-4b48-958e-8ab504914cff",
   "metadata": {},
   "outputs": [],
   "source": [
    "amphibian = Amphibian()"
   ]
  },
  {
   "cell_type": "code",
   "execution_count": 22,
   "id": "ce21bb97-5b1d-4493-836f-663d2ed1f71e",
   "metadata": {},
   "outputs": [
    {
     "data": {
      "text/plain": [
       "'I can fly!'"
      ]
     },
     "execution_count": 22,
     "metadata": {},
     "output_type": "execute_result"
    }
   ],
   "source": [
    "amphibian.fly()"
   ]
  },
  {
   "cell_type": "code",
   "execution_count": 23,
   "id": "1a33e151-14a4-4052-91fd-087c0cd5a53a",
   "metadata": {},
   "outputs": [
    {
     "data": {
      "text/plain": [
       "'I can swim!'"
      ]
     },
     "execution_count": 23,
     "metadata": {},
     "output_type": "execute_result"
    }
   ],
   "source": [
    "amphibian.swim()"
   ]
  },
  {
   "cell_type": "code",
   "execution_count": 24,
   "id": "a7af65ef-8e2b-404e-a134-63755affc563",
   "metadata": {},
   "outputs": [],
   "source": [
    "#3). Multi-level Inheritance"
   ]
  },
  {
   "cell_type": "code",
   "execution_count": 25,
   "id": "a4f9f613-1da4-4d86-9509-2b4c1bd6c170",
   "metadata": {},
   "outputs": [],
   "source": [
    "class Vehicle:\n",
    "    def move(self):\n",
    "        return \"I can move!\"\n",
    "\n",
    "class Car(Vehicle):\n",
    "    pass\n",
    "\n",
    "class ElectricCar(Car):\n",
    "    pass"
   ]
  },
  {
   "cell_type": "code",
   "execution_count": 26,
   "id": "ba985f6b-2e56-48e0-b162-612ee75e93da",
   "metadata": {},
   "outputs": [],
   "source": [
    "electric_car = ElectricCar()"
   ]
  },
  {
   "cell_type": "code",
   "execution_count": 27,
   "id": "42ec29c4-5f8b-436f-ae72-a81253267b7d",
   "metadata": {},
   "outputs": [
    {
     "data": {
      "text/plain": [
       "'I can move!'"
      ]
     },
     "execution_count": 27,
     "metadata": {},
     "output_type": "execute_result"
    }
   ],
   "source": [
    "electric_car.move()"
   ]
  },
  {
   "cell_type": "code",
   "execution_count": null,
   "id": "7377ec47-56d8-4c72-8d71-913d2c138ada",
   "metadata": {},
   "outputs": [],
   "source": []
  }
 ],
 "metadata": {
  "kernelspec": {
   "display_name": "Python 3 (ipykernel)",
   "language": "python",
   "name": "python3"
  },
  "language_info": {
   "codemirror_mode": {
    "name": "ipython",
    "version": 3
   },
   "file_extension": ".py",
   "mimetype": "text/x-python",
   "name": "python",
   "nbconvert_exporter": "python",
   "pygments_lexer": "ipython3",
   "version": "3.10.8"
  }
 },
 "nbformat": 4,
 "nbformat_minor": 5
}
