{
 "cells": [
  {
   "cell_type": "code",
   "execution_count": 1,
   "id": "b41e95bc-a253-4728-b054-9e23ade261c3",
   "metadata": {},
   "outputs": [],
   "source": [
    "#1). What is Abstraction in OOps? Explain with an example."
   ]
  },
  {
   "cell_type": "code",
   "execution_count": null,
   "id": "45b21ddc-942d-4210-b63b-17bcd65cccc2",
   "metadata": {},
   "outputs": [],
   "source": [
    "'''Abstraction is one of the four pillars of object-oriented programming (OOP) \n",
    "and refers to the process of simplifying complex real-world objects into a more manageable representation in code. \n",
    "It involves exposing only the essential features of an object while hiding unnecessary details.\n",
    "Abstraction allows you to work with high-level concepts without worrying about the low-level implementation.'''"
   ]
  },
  {
   "cell_type": "code",
   "execution_count": 2,
   "id": "a58816b5-8790-44f4-92a2-b52d883a0ffa",
   "metadata": {},
   "outputs": [],
   "source": [
    "from abc import ABC, abstractmethod\n",
    "\n",
    "class Shape(ABC):\n",
    "    @abstractmethod\n",
    "    def area(self):\n",
    "        pass\n",
    "\n",
    "class Circle(Shape):\n",
    "    def __init__(self, radius):\n",
    "        self.radius = radius\n",
    "\n",
    "    def area(self):\n",
    "        return 3.14 * self.radius * self.radius\n",
    "\n",
    "class Square(Shape):\n",
    "    def __init__(self, side):\n",
    "        self.side = side\n",
    "\n",
    "    def area(self):\n",
    "        return self.side * self.side"
   ]
  },
  {
   "cell_type": "code",
   "execution_count": 3,
   "id": "9518f837-c517-423f-b71a-f28bb9c09987",
   "metadata": {},
   "outputs": [],
   "source": [
    "circle = Circle(5)\n",
    "square = Square(4)"
   ]
  },
  {
   "cell_type": "code",
   "execution_count": 4,
   "id": "840f1ca2-e2a3-4e22-a4ab-6746d867b401",
   "metadata": {},
   "outputs": [
    {
     "data": {
      "text/plain": [
       "78.5"
      ]
     },
     "execution_count": 4,
     "metadata": {},
     "output_type": "execute_result"
    }
   ],
   "source": [
    "circle.area()"
   ]
  },
  {
   "cell_type": "code",
   "execution_count": 6,
   "id": "93dab205-f943-46b0-9535-6b3ab9c81e26",
   "metadata": {},
   "outputs": [
    {
     "data": {
      "text/plain": [
       "5"
      ]
     },
     "execution_count": 6,
     "metadata": {},
     "output_type": "execute_result"
    }
   ],
   "source": [
    "circle.radius"
   ]
  },
  {
   "cell_type": "code",
   "execution_count": 7,
   "id": "275dd8ed-d315-40ee-ad0b-b469206127d6",
   "metadata": {},
   "outputs": [
    {
     "data": {
      "text/plain": [
       "16"
      ]
     },
     "execution_count": 7,
     "metadata": {},
     "output_type": "execute_result"
    }
   ],
   "source": [
    "square.area()"
   ]
  },
  {
   "cell_type": "code",
   "execution_count": 8,
   "id": "a196dc89-2042-41f3-9164-0404700cd11a",
   "metadata": {},
   "outputs": [
    {
     "data": {
      "text/plain": [
       "4"
      ]
     },
     "execution_count": 8,
     "metadata": {},
     "output_type": "execute_result"
    }
   ],
   "source": [
    "square.side"
   ]
  },
  {
   "cell_type": "code",
   "execution_count": 9,
   "id": "4dcab55b-0df9-4627-b41e-e05579dbabfd",
   "metadata": {},
   "outputs": [],
   "source": [
    "#2). Differentiate between Abstraction and Encapsulation. Explain with an example."
   ]
  },
  {
   "cell_type": "code",
   "execution_count": null,
   "id": "80047465-ed17-47e3-b4a5-a0f0ea21e59f",
   "metadata": {},
   "outputs": [],
   "source": [
    "\"\"\"1).Abstraction:-\n",
    "Abstraction is the process of simplifying complex real-world objects into a more manageable representation in code.\n",
    "It involves exposing only the essential features and hiding unnecessary details of an object, \n",
    "so that you can work with high-level concepts without worrying about the low-level implementation.\n",
    "Abstraction focuses on \"what\" an object does rather than \"how\" it does it.\n",
    "\n",
    "2).Encapsulation:-\n",
    "Encapsulation is the bundling of data (attributes) and methods (functions) that operate on that data within a single unit called a class.\n",
    "It allows you to hide the internal implementation details of an object and provide access control to the data, promoting data security and maintainability.\n",
    "Encapsulation focuses on controlling access to an object's data and behavior to prevent unwanted modifications.\"\"\""
   ]
  },
  {
   "cell_type": "code",
   "execution_count": 10,
   "id": "5136e496-0e92-4fe8-b103-fd8548a47017",
   "metadata": {},
   "outputs": [],
   "source": [
    "# Abstraction Example\n",
    "class Shape:\n",
    "    def area(self):\n",
    "        pass\n",
    "\n",
    "class Circle(Shape):\n",
    "    def __init__(self, radius):\n",
    "        self.radius = radius\n",
    "\n",
    "    def area(self):\n",
    "        return 3.14 * self.radius * self.radius\n",
    "\n",
    "class Square(Shape):\n",
    "    def __init__(self, side):\n",
    "        self.side = side\n",
    "\n",
    "    def area(self):\n",
    "        return self.side * self.side\n",
    "\n",
    "# Encapsulation Example\n",
    "class BankAccount:\n",
    "    def __init__(self, account_number, balance):\n",
    "        self._account_number = account_number\n",
    "        self._balance = balance\n",
    "\n",
    "    def get_balance(self):\n",
    "        return self._balance\n",
    "\n",
    "    def deposit(self, amount):\n",
    "        self._balance += amount\n",
    "\n",
    "    def withdraw(self, amount):\n",
    "        if self._balance >= amount:\n",
    "            self._balance -= amount\n",
    "        else:\n",
    "            print(\"Insufficient balance.\")"
   ]
  },
  {
   "cell_type": "code",
   "execution_count": 11,
   "id": "92fc0be8-d492-436f-aff3-36b00045a695",
   "metadata": {},
   "outputs": [],
   "source": [
    "#Abstraction\n",
    "circle = Circle(5)\n",
    "square = Square(4)"
   ]
  },
  {
   "cell_type": "code",
   "execution_count": 13,
   "id": "ff00a58d-8c0a-4484-b9aa-414ee065d354",
   "metadata": {},
   "outputs": [
    {
     "data": {
      "text/plain": [
       "78.5"
      ]
     },
     "execution_count": 13,
     "metadata": {},
     "output_type": "execute_result"
    }
   ],
   "source": [
    "circle.area()"
   ]
  },
  {
   "cell_type": "code",
   "execution_count": 14,
   "id": "47649505-89db-4cfe-8f65-c4a99c046b4e",
   "metadata": {},
   "outputs": [
    {
     "data": {
      "text/plain": [
       "16"
      ]
     },
     "execution_count": 14,
     "metadata": {},
     "output_type": "execute_result"
    }
   ],
   "source": [
    "square.area()"
   ]
  },
  {
   "cell_type": "code",
   "execution_count": 15,
   "id": "6e9dea78-25c9-4ad4-bac9-0c05265db29d",
   "metadata": {},
   "outputs": [],
   "source": [
    "# Encapsulation"
   ]
  },
  {
   "cell_type": "code",
   "execution_count": 16,
   "id": "a36a1ee2-eaf9-4d03-8c9f-d3d15313f919",
   "metadata": {},
   "outputs": [],
   "source": [
    "account = BankAccount(\"123456\", 1000)"
   ]
  },
  {
   "cell_type": "code",
   "execution_count": 18,
   "id": "9badbb6c-6377-455d-9561-9d9fe68044cc",
   "metadata": {},
   "outputs": [
    {
     "data": {
      "text/plain": [
       "1000"
      ]
     },
     "execution_count": 18,
     "metadata": {},
     "output_type": "execute_result"
    }
   ],
   "source": [
    "account.get_balance()"
   ]
  },
  {
   "cell_type": "code",
   "execution_count": 19,
   "id": "c385443a-e53a-4c77-bb23-40785a75c207",
   "metadata": {},
   "outputs": [],
   "source": [
    "#3). What is abc module in python? Why is it used"
   ]
  },
  {
   "cell_type": "code",
   "execution_count": null,
   "id": "78c0655e-a0cd-4738-a5a8-43097871f80e",
   "metadata": {},
   "outputs": [],
   "source": [
    "\"\"\"The abc module in Python stands for \"Abstract Base Classes.\" \n",
    "It is a module in the Python Standard Library that provides a way to \n",
    "define abstract classes and interfaces. \n",
    "Abstract base classes are classes that cannot be instantiated directly \n",
    "but serve as a blueprint for other classes to inherit from.\n",
    "1).Defining Abstract Classes\n",
    "2).Creating Interfaces\n",
    "3).Enforcing Structure\"\"\""
   ]
  },
  {
   "cell_type": "code",
   "execution_count": 20,
   "id": "b8061753-671e-44ab-9f00-011ed29768d5",
   "metadata": {},
   "outputs": [],
   "source": [
    "#4).  How can we achieve data abstraction?"
   ]
  },
  {
   "cell_type": "code",
   "execution_count": null,
   "id": "07183eec-3431-42b9-a10f-1c71c33b5a98",
   "metadata": {},
   "outputs": [],
   "source": [
    "\"\"\"Data abstraction in Python can be achieved by using classes and their methods.\n",
    "Abstraction involves exposing only the essential features of an object while hiding unnecessary implementation details.\n",
    "To achieve data abstraction, you need to define a class that encapsulates the data (attributes) and provides methods (functions) to operate on that data. \n",
    "The methods serve as an interface to interact with the object's data, hiding the internal implementation.\"\"\""
   ]
  },
  {
   "cell_type": "code",
   "execution_count": 21,
   "id": "88e957b9-e4e9-41d4-9234-1b0a72249467",
   "metadata": {},
   "outputs": [],
   "source": [
    "#5).Can we create an instance of an abstract class? Explain your answer"
   ]
  },
  {
   "cell_type": "code",
   "execution_count": 22,
   "id": "b574c7da-b859-4fad-9b42-7a8059fcd622",
   "metadata": {},
   "outputs": [],
   "source": [
    "from abc import ABC, abstractmethod\n",
    "\n",
    "class Shape(ABC):\n",
    "    @abstractmethod\n",
    "    def area(self):\n",
    "        pass\n",
    "\n",
    "class Circle(Shape):\n",
    "    def __init__(self, radius):\n",
    "        self.radius = radius\n",
    "\n",
    "    def area(self):\n",
    "        return 3.14 * self.radius * self.radius\n"
   ]
  },
  {
   "cell_type": "code",
   "execution_count": 24,
   "id": "e538f80e-b078-434c-907b-0e1cbf9c0228",
   "metadata": {},
   "outputs": [
    {
     "ename": "TypeError",
     "evalue": "Can't instantiate abstract class Shape with abstract method area",
     "output_type": "error",
     "traceback": [
      "\u001b[0;31m---------------------------------------------------------------------------\u001b[0m",
      "\u001b[0;31mTypeError\u001b[0m                                 Traceback (most recent call last)",
      "Cell \u001b[0;32mIn[24], line 1\u001b[0m\n\u001b[0;32m----> 1\u001b[0m shape \u001b[38;5;241m=\u001b[39m \u001b[43mShape\u001b[49m\u001b[43m(\u001b[49m\u001b[43m)\u001b[49m \n",
      "\u001b[0;31mTypeError\u001b[0m: Can't instantiate abstract class Shape with abstract method area"
     ]
    }
   ],
   "source": [
    "shape = Shape() "
   ]
  },
  {
   "cell_type": "code",
   "execution_count": null,
   "id": "367d17c3-8822-4c3d-839d-c20656834995",
   "metadata": {},
   "outputs": [],
   "source": []
  }
 ],
 "metadata": {
  "kernelspec": {
   "display_name": "Python 3 (ipykernel)",
   "language": "python",
   "name": "python3"
  },
  "language_info": {
   "codemirror_mode": {
    "name": "ipython",
    "version": 3
   },
   "file_extension": ".py",
   "mimetype": "text/x-python",
   "name": "python",
   "nbconvert_exporter": "python",
   "pygments_lexer": "ipython3",
   "version": "3.10.8"
  }
 },
 "nbformat": 4,
 "nbformat_minor": 5
}
